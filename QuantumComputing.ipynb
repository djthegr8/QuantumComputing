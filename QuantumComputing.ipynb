{
 "cells": [
  {
   "cell_type": "markdown",
   "metadata": {},
   "source": [
    "# Quantum Computing with Q# Tutorial\n",
    "Welcome to the iPython Notebook for the Quantum Computing tutorial for [this]() Medium article.          \n",
    "Let's first start by looking at Q#, the language used to code Quantum Applications in the Quantum Development Kit. Don't worry, it's not too hard!                     \n",
    "\n",
    "<small>If you aren't familiar with IPy Notebooks, just press `Shift + Enter` to move to the next cell.</small>"
   ]
  },
  {
   "cell_type": "code",
   "execution_count": 115,
   "metadata": {},
   "outputs": [
    {
     "data": {
      "application/json": "[\"RunNTimes\"]",
      "text/html": [
       "<ul><li>RunNTimes</li></ul>"
      ],
      "text/plain": [
       "RunNTimes"
      ]
     },
     "execution_count": 115,
     "metadata": {},
     "output_type": "execute_result"
    }
   ],
   "source": [
    "// Load some dependencies\n",
    "open Microsoft.Quantum.Convert;\n",
    "open Microsoft.Quantum.Math;\n",
    "open Microsoft.Quantum.Measurement;\n",
    "open Microsoft.Quantum.Canon;\n",
    "open Microsoft.Quantum.Intrinsic;\n",
    "\n",
    "// Helper functions\n",
    "// An operation to run an Operation n times and print how many zeros and ones\n",
    "operation RunNTimes(op : Unit => Result, n : Int): Unit {\n",
    "    mutable zeros = 0;\n",
    "    for i in 1..n {\n",
    "        let result = op();\n",
    "        if IsResultZero(result){ \n",
    "            set zeros += 1;\n",
    "        }\n",
    "    }\n",
    "    Message($\"Zeros: {zeros} | Ones: {n - zeros}\");\n",
    "}"
   ]
  },
  {
   "cell_type": "markdown",
   "metadata": {},
   "source": [
    "## Q# Fundamentals\n",
    "All functions in Q# are called `operation`. The format for Q# operations is ~ \n",
    "```q#\n",
    "operation <name>(<input_args>): <return_dtype> { <body> }\n",
    "```\n",
    "> Note that the `return_dtype` for functions without a return value is `Unit`, which is the equivalent of `void` in C# or C/C++.\n",
    "\n",
    "Below is the code for a basic Hello World operation, using the [`Message`](https://docs.microsoft.com/en-us/qsharp/api/qsharp/microsoft.quantum.intrinsic.message) function from Q#, which is the rough equivalent of `print` in Python, `Console.Write` in C# and `std::cout` in C++."
   ]
  },
  {
   "cell_type": "code",
   "execution_count": 116,
   "metadata": {},
   "outputs": [
    {
     "data": {
      "application/json": "[\"HelloWorld\"]",
      "text/html": [
       "<ul><li>HelloWorld</li></ul>"
      ],
      "text/plain": [
       "HelloWorld"
      ]
     },
     "execution_count": 116,
     "metadata": {},
     "output_type": "execute_result"
    }
   ],
   "source": [
    "// Function to print \"Hello World\"\n",
    "operation HelloWorld(): Unit {\n",
    "    Message(\"Hello World from Q#\");\n",
    "}"
   ]
  },
  {
   "cell_type": "markdown",
   "metadata": {},
   "source": [
    "As Q# is a language that runs on Quantum Computers, executing operations works a bit differently. <br />Rather than direct execution, we run an IPYNB magic command - [`%simulate`](https://docs.microsoft.com/en-us/qsharp/api/iqsharp-magic/simulate) followed by the name of the operation for simulation."
   ]
  },
  {
   "cell_type": "code",
   "execution_count": 117,
   "metadata": {},
   "outputs": [
    {
     "name": "stdout",
     "output_type": "stream",
     "text": [
      "Hello World from Q#\r\n"
     ]
    },
    {
     "data": {
      "application/json": "{\"@type\":\"tuple\"}",
      "text/plain": [
       "()"
      ]
     },
     "execution_count": 117,
     "metadata": {},
     "output_type": "execute_result"
    }
   ],
   "source": [
    "%simulate HelloWorld"
   ]
  },
  {
   "cell_type": "markdown",
   "metadata": {},
   "source": [
    "Q# also supports the basic fundamental datatypes, such as `Int`, `Float` et cetera.                     \n",
    "Below is a basic Addition operation that works on integers.   <br />                   \n",
    "<small>Notice that the `return` keyword, present in languages like Python, C# and C/C++ is also present in Q#.</small>"
   ]
  },
  {
   "cell_type": "code",
   "execution_count": 118,
   "metadata": {},
   "outputs": [
    {
     "data": {
      "application/json": "[\"Add\"]",
      "text/html": [
       "<ul><li>Add</li></ul>"
      ],
      "text/plain": [
       "Add"
      ]
     },
     "execution_count": 118,
     "metadata": {},
     "output_type": "execute_result"
    }
   ],
   "source": [
    "// Function to add two integers in Q#\n",
    "operation Add(x : Int, y: Int): Int {\n",
    "    return x + y;\n",
    "}"
   ]
  },
  {
   "cell_type": "markdown",
   "metadata": {},
   "source": [
    "To simulate our operation, we need to input the arguments in `key=value` format after the name of the operation, as shown below."
   ]
  },
  {
   "cell_type": "code",
   "execution_count": 119,
   "metadata": {},
   "outputs": [
    {
     "data": {
      "application/json": "8",
      "text/plain": [
       "8"
      ]
     },
     "execution_count": 119,
     "metadata": {},
     "output_type": "execute_result"
    }
   ],
   "source": [
    "%simulate Add x=3 y=5"
   ]
  },
  {
   "cell_type": "markdown",
   "metadata": {},
   "source": [
    "Cool! Now try to write a function `pow`, which takes two `Int` arguments, say `x` and `y`, and returns `x^y`           \n",
    "\n",
    "<blockquote><details><summary>> <i>Click here for Hint</i></summary>The function <A href=\"https://docs.microsoft.com/en-us/qsharp/api/qsharp/microsoft.quantum.math.powi\" target=\"_blank\"><code>Microsoft.Quantum.Math.PowI</code></A> might help you out here</details></blockquote>"
   ]
  },
  {
   "cell_type": "code",
   "execution_count": 120,
   "metadata": {},
   "outputs": [
    {
     "data": {
      "application/json": "[\"Pow\"]",
      "text/html": [
       "<ul><li>Pow</li></ul>"
      ],
      "text/plain": [
       "Pow"
      ]
     },
     "execution_count": 120,
     "metadata": {},
     "output_type": "execute_result"
    }
   ],
   "source": [
    "// DIY~1\n",
    "operation Pow(x: Int, y: Int): Int{\n",
    "    // TODO: Create a function that raises x to the power of y.\n",
    "    return -1;\n",
    "}"
   ]
  },
  {
   "cell_type": "code",
   "execution_count": 121,
   "metadata": {},
   "outputs": [
    {
     "data": {
      "application/json": "[\"AssertPow\"]",
      "text/html": [
       "<ul><li>AssertPow</li></ul>"
      ],
      "text/plain": [
       "AssertPow"
      ]
     },
     "execution_count": 121,
     "metadata": {},
     "output_type": "execute_result"
    }
   ],
   "source": [
    "// An operation to check whether the Pow function is giving the right output\n",
    "operation AssertPow(): Unit {\n",
    "    if Pow(4,5) != 1024 {\n",
    "        Message(\"Try again!\");\n",
    "    } else {\n",
    "        if Pow(-4,5) != -1024 {\n",
    "            Message(\"Try again! Hint: Check for negative bases!\");\n",
    "        } else {\n",
    "            Message(\"Success!\");\n",
    "        }\n",
    "    }\n",
    "}"
   ]
  },
  {
   "cell_type": "code",
   "execution_count": 122,
   "metadata": {
    "tags": [
     "remove_input"
    ]
   },
   "outputs": [
    {
     "name": "stdout",
     "output_type": "stream",
     "text": [
      "Try again!\r\n"
     ]
    },
    {
     "data": {
      "application/json": "{\"@type\":\"tuple\"}",
      "text/plain": [
       "()"
      ]
     },
     "execution_count": 122,
     "metadata": {},
     "output_type": "execute_result"
    }
   ],
   "source": [
    "%simulate AssertPow"
   ]
  },
  {
   "cell_type": "markdown",
   "metadata": {},
   "source": [
    "Already forgot the syntax? No problem!             <br />                               \n",
    "Find documentation for any object using `<object_name>?` in the cell, like below."
   ]
  },
  {
   "cell_type": "code",
   "execution_count": 123,
   "metadata": {},
   "outputs": [
    {
     "data": {
      "application/json": "{\"name\":\"Microsoft.Quantum.Math.PowI\",\"kind\":3,\"source\":\"C:\\\\Users\\\\Meha\\\\.nuget\\\\packages\\\\microsoft.quantum.standard\\\\0.16.2105140472\\\\lib\\\\netstandard2.1\\\\Microsoft.Quantum.Standard.dll\",\"documentation\":\" # Summary\\n Returns a number raised to a given power.\\n\\n # Input\\n ## a\\n The number $a$ that is to be raised.\\n ## power\\n The power $b$ to which $a$ should be raised.\\n\\n # Output\\n The power $a^b$\",\"summary\":\"Returns a number raised to a given power.\",\"inputs\":{\"power\":\"The power $b$ to which $a$ should be raised.\",\"a\":\"The number $a$ that is to be raised.\"}}",
      "text/html": [
       "\r\n",
       "                    <h4><i class=\"fa fas fa-terminal\"></i> Microsoft.Quantum.Math.PowI <a href=\"C:\\Users\\Meha\\.nuget\\packages\\microsoft.quantum.standard\\0.16.2105140472\\lib\\netstandard2.1\\Microsoft.Quantum.Standard.dll\"><i class=\"fa fas fa-code\"></i></a></h4>\r\n",
       "                    <h5>Summary</h5><p>Returns a number raised to a given power.</p>\n",
       "\r\n",
       "                    \r\n",
       "                "
      ],
      "text/plain": [
       "Microsoft.Quantum.Math.PowI"
      ]
     },
     "execution_count": 123,
     "metadata": {},
     "output_type": "execute_result"
    }
   ],
   "source": [
    "Microsoft.Quantum.Math.PowI?"
   ]
  },
  {
   "cell_type": "markdown",
   "metadata": {},
   "source": [
    "### Quantum Measurement\n",
    "As mentioned in the article, a Quantum bit (better known as a Qubit) is the fundamental unit of storage for quantum computers.<br />Let's write a program that allocates a qubit and returns its measurement.<br />\n",
    "The function that returns the measurement of a qubit in Q# is `M(Qubit) => Result`"
   ]
  },
  {
   "cell_type": "code",
   "execution_count": 124,
   "metadata": {},
   "outputs": [
    {
     "data": {
      "application/json": "[\"CreateAndReturnMeasurement\",\"nCreateAndReturnMeasurement\"]",
      "text/html": [
       "<ul><li>CreateAndReturnMeasurement</li><li>nCreateAndReturnMeasurement</li></ul>"
      ],
      "text/plain": [
       "CreateAndReturnMeasurement, nCreateAndReturnMeasurement"
      ]
     },
     "execution_count": 124,
     "metadata": {},
     "output_type": "execute_result"
    }
   ],
   "source": [
    "operation CreateAndReturnMeasurement() : Result {\n",
    "    // Allocate the qubit.\n",
    "    use q = Qubit();\n",
    "    // Measures the qubit.\n",
    "    let result = M(q);\n",
    "    return result;\n",
    "}\n",
    "operation nCreateAndReturnMeasurement(n: Int) : Unit {\n",
    "    RunNTimes(CreateAndReturnMeasurement,n);\n",
    "}"
   ]
  },
  {
   "cell_type": "code",
   "execution_count": 125,
   "metadata": {},
   "outputs": [
    {
     "data": {
      "application/json": "0",
      "text/plain": [
       "Zero"
      ]
     },
     "execution_count": 125,
     "metadata": {},
     "output_type": "execute_result"
    }
   ],
   "source": [
    "%simulate CreateAndReturnMeasurement "
   ]
  },
  {
   "cell_type": "markdown",
   "metadata": {},
   "source": [
    "Great! The output indicates that this Quantum bit is in its initial state.<br /> Let's run the same function, say, a hundred times to see if the values change..."
   ]
  },
  {
   "cell_type": "code",
   "execution_count": 126,
   "metadata": {},
   "outputs": [
    {
     "name": "stdout",
     "output_type": "stream",
     "text": [
      "Zeros: 100 | Ones: 0\r\n"
     ]
    },
    {
     "data": {
      "application/json": "{\"@type\":\"tuple\"}",
      "text/plain": [
       "()"
      ]
     },
     "execution_count": 126,
     "metadata": {},
     "output_type": "execute_result"
    }
   ],
   "source": [
    "%simulate nCreateAndReturnMeasurement n=100"
   ]
  },
  {
   "cell_type": "markdown",
   "metadata": {},
   "source": [
    "As expected, this returns zeros a hundred percent of the times..."
   ]
  },
  {
   "cell_type": "markdown",
   "metadata": {},
   "source": [
    "### Superposition\n",
    "Superposition is the unique state of Quantum Particles, where their value is the combination of infinite probabilities. <br />\n",
    "Recall that measuring a qubit in superposition collapses it to one of the two binary values. <br />\n",
    "A special *Qubit gate* that puts a Quantum particle into Superposition, in Q#, is the H transformation `H(Qubit)=>Unit`.\n",
    "<details><summary><i>> More to know</i></summary>The Hadamard (aforementioned H) transformation is one which sets the Qubit's base states in such a way that a Quantum measurement causing collapse has an equal probability of returning zero or one. To know the mathematical details of transformations and quantum particles, see Microsoft's documentation <A href=\"https://docs.microsoft.com/en-us/azure/quantum/overview-algebra-for-quantum-computing\" target=_blank>here</A></details>\n",
    "<br />\n",
    "This means that we can make a true Random Number Generator (RNG) using Qubits!\n",
    "The steps in this would be ~\n",
    "\n",
    "* Allocate the Qubit\n",
    "* Put the Qubit into Superposition\n",
    "* Measure the Qubit and return its value.\n",
    "> Note that Qubits, in order to be reusable, need to be reset after every measurement. For this, we use a combined operation of Measurement and Resetting, i.e., [`MResetZ`](https://docs.microsoft.com/en-us/qsharp/api/qsharp/microsoft.quantum.measurement.mresetz)"
   ]
  },
  {
   "cell_type": "code",
   "execution_count": 127,
   "metadata": {},
   "outputs": [
    {
     "data": {
      "application/json": "[\"QRNG\",\"nQRNG\"]",
      "text/html": [
       "<ul><li>QRNG</li><li>nQRNG</li></ul>"
      ],
      "text/plain": [
       "QRNG, nQRNG"
      ]
     },
     "execution_count": 127,
     "metadata": {},
     "output_type": "execute_result"
    }
   ],
   "source": [
    "// Creates a Quantum Random Number Generator using Qubits\n",
    "operation QRNG() : Result {\n",
    "    // Allocate the qubit\n",
    "    use q = Qubit();\n",
    "    // Put the Qubit in superposition\n",
    "    H(q);\n",
    "    // Measure it and reset the Qubit\n",
    "    return MResetZ(q);\n",
    "}\n",
    "// Run it n times\n",
    "operation nQRNG(n : Int) : Unit {\n",
    "    RunNTimes(QRNG, n);\n",
    "}"
   ]
  },
  {
   "cell_type": "code",
   "execution_count": 128,
   "metadata": {
    "scrolled": true
   },
   "outputs": [
    {
     "name": "stdout",
     "output_type": "stream",
     "text": [
      "Zeros: 48 | Ones: 52\r\n"
     ]
    },
    {
     "data": {
      "application/json": "{\"@type\":\"tuple\"}",
      "text/plain": [
       "()"
      ]
     },
     "execution_count": 128,
     "metadata": {},
     "output_type": "execute_result"
    }
   ],
   "source": [
    "%simulate nQRNG n=100"
   ]
  },
  {
   "cell_type": "markdown",
   "metadata": {},
   "source": [
    "Now let's try to extend this, to getting a number within a specified limit.                                 \n",
    "As the below operation uses a lot of new functions and syntax, let's jump right into it!                      \n",
    "The main process here is ~\n",
    "* Creating an Array of `Result` Type. Set it to mutable, so that we can append values to it later.\n",
    "* As `Result` is effectively just a bit, we can construct a new integer by putting `n` of these bits together. The function [`BitSizeI`](https://docs.microsoft.com/en-us/qsharp/api/qsharp/microsoft.quantum.math.bitsizei) helps us calculate `n`, i.e., the total number of bits required to represent an integer, in this case the value `max`.\n",
    "* We iterate over from 1 to `n` and append the quantum random bit value to the result array as we go.\n",
    "* After the iteration, we use [ResultArrayAsInt](https://docs.microsoft.com/en-us/qsharp/api/qsharp/microsoft.quantum.convert.resultarrayasint) to convert this array of Bits to an integer.\n",
    "* Note that the value `BitSizeI(max)` may be capable of holding values *greater* than `max`, and in such a case, we will need to retry the operation till we get a value under it. This recursion is the reason for the `Warning QS5002`, and it is perfectly safe to ignore. \n",
    "* If it *is* ≤ max, we can safely output the number. For this, I've used the `?|` ternary operator, which is great syntactical sugar for `<bool> ? <value if true> | <value if false>`. This is equivalent to the `?:` ternary operator in C# and C/C++. "
   ]
  },
  {
   "cell_type": "code",
   "execution_count": 129,
   "metadata": {},
   "outputs": [
    {
     "name": "stdout",
     "output_type": "stream",
     "text": [
      "D:\\snippet_.qs(16,18): warning QS5002: This expression may be short-circuited, and operation calls may not be executed.\r\n"
     ]
    },
    {
     "data": {
      "application/json": "[\"QRNGLimit\"]",
      "text/html": [
       "<ul><li>QRNGLimit</li></ul>"
      ],
      "text/plain": [
       "QRNGLimit"
      ]
     },
     "execution_count": 129,
     "metadata": {},
     "output_type": "execute_result"
    }
   ],
   "source": [
    "// A Quantum Random Number Generator which returns a random value in the range [0, max]\n",
    "operation QRNGLimit(max : Int) : Int {\n",
    "        // n is the Minimum bit size required to represent max\n",
    "        let n = BitSizeI(max);\n",
    "        // Create a bit array. Size of the array isn't of any importance as we are going to append values anyways.\n",
    "        mutable bitArray = new Result[0];\n",
    "        // Iterate from 1 through n\n",
    "        for _ in 1..n {\n",
    "            // Append the bitArray\n",
    "            set bitArray += [QRNG()];\n",
    "        }\n",
    "        // Convert BitArray to Integer\n",
    "        let sample = ResultArrayAsInt(bitArray);\n",
    "        // If sample > max, then try \n",
    "        return sample > max\n",
    "               ? QRNGLimit(max)\n",
    "               | sample;\n",
    "    }"
   ]
  },
  {
   "cell_type": "markdown",
   "metadata": {},
   "source": [
    "Let's simulate this function! Try running this multiple times, and with multiple `max` values to confirm that it returns truly random numbers!"
   ]
  },
  {
   "cell_type": "code",
   "execution_count": 130,
   "metadata": {},
   "outputs": [
    {
     "data": {
      "application/json": "130",
      "text/plain": [
       "130"
      ]
     },
     "execution_count": 130,
     "metadata": {},
     "output_type": "execute_result"
    }
   ],
   "source": [
    "%simulate QRNGLimit max=200"
   ]
  },
  {
   "cell_type": "markdown",
   "metadata": {},
   "source": [
    "Great! As a final TODO task, try to extend `QRNGLimit` to an operation `QRNGRange` that outputs random numbers within a range!\n",
    "<blockquote><details><summary><i>> Click for Hint!</i></summary><code>QRNGLimit</code> is effectively <code>QRNGRange</code> with <code>min = 0</code>. What are the adjustments we need to do to allow us to consider that?<blockquote><details><summary><i>> Need more help?</i></summary>If we run <code>QRNGLimit</code> with <code>max - min</code> as <code>max</code>, it allows us to later compensate by returning the sum of <code>min</code> and the random value</details></blockquote></details></blockquote>"
   ]
  },
  {
   "cell_type": "code",
   "execution_count": 131,
   "metadata": {},
   "outputs": [
    {
     "data": {
      "application/json": "[\"QRNGRange\"]",
      "text/html": [
       "<ul><li>QRNGRange</li></ul>"
      ],
      "text/plain": [
       "QRNGRange"
      ]
     },
     "execution_count": 131,
     "metadata": {},
     "output_type": "execute_result"
    }
   ],
   "source": [
    "// Returns a random number in the range [min, max]\n",
    "operation QRNGRange(min: Int, max: Int): Int {\n",
    "    // TODO: Use the operation QRNGLimit and extend it to a minimum and maximum value.\n",
    "    return -1;\n",
    "}"
   ]
  },
  {
   "cell_type": "code",
   "execution_count": 132,
   "metadata": {},
   "outputs": [
    {
     "data": {
      "application/json": "-1",
      "text/plain": [
       "-1"
      ]
     },
     "execution_count": 132,
     "metadata": {},
     "output_type": "execute_result"
    }
   ],
   "source": [
    "%simulate QRNGRange min=25 max=28"
   ]
  },
  {
   "cell_type": "markdown",
   "metadata": {},
   "source": [
    "## Conclusion\n",
    "We're done! The purpose of this tutorial has been to invoke interest in Quantum Computing, in a way that does not require any mathematical qualification, in addition to equipping the reader with tools to take their first step in Quantum Computing using Q# and the QDK. <br /><br />To continue in your journey towards expertise in Quantum Computing, I encourage you to check out the below resources from Microsoft's Documentation.<br /> <br />\n",
    "**Tools for learning Math**\n",
    "* [Linear Algebra for Quantum Computing](https://docs.microsoft.com/en-us/azure/quantum/overview-algebra-for-quantum-computing)\n",
    "* [Vectors and Matrices](https://docs.microsoft.com/en-us/azure/quantum/concepts-vectors-and-matrices)\n",
    "* [The Qubit](https://docs.microsoft.com/en-us/azure/quantum/concepts-the-qubit)\n",
    "<br>\n",
    "\n",
    "Additionally, the [Quantum Katas](https://github.com/microsoft/QuantumKatas) are an excellent way to start your journey in Q# and Quantum computing. \n",
    "<br />\n",
    "<h5>I hope you enjoyed this tutorial, and have a great day ahead!</h5>\n"
   ]
  }
 ],
 "metadata": {
  "kernelspec": {
   "display_name": "Q#",
   "language": "qsharp",
   "name": "iqsharp"
  },
  "language_info": {
   "file_extension": ".qs",
   "mimetype": "text/x-qsharp",
   "name": "qsharp",
   "version": "0.14"
  }
 },
 "nbformat": 4,
 "nbformat_minor": 2
}
